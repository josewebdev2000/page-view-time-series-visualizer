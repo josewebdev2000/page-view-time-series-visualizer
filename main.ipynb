{
 "cells": [
  {
   "cell_type": "markdown",
   "id": "e34fd60c-99ba-4c73-be99-296f42885fb3",
   "metadata": {},
   "source": [
    "<div align=\"center\">\n",
    "    <h1>Page View Time Series Visualizer</h1>\n",
    "    <img src=\"page-view.png\" width=\"700\" alt=\"Page View Picture\">\n",
    "</div>"
   ]
  },
  {
   "cell_type": "code",
   "execution_count": null,
   "id": "09183597-3253-4278-a396-9fb0221c902b",
   "metadata": {},
   "outputs": [],
   "source": []
  }
 ],
 "metadata": {
  "kernelspec": {
   "display_name": "Python 3 (ipykernel)",
   "language": "python",
   "name": "python3"
  },
  "language_info": {
   "codemirror_mode": {
    "name": "ipython",
    "version": 3
   },
   "file_extension": ".py",
   "mimetype": "text/x-python",
   "name": "python",
   "nbconvert_exporter": "python",
   "pygments_lexer": "ipython3",
   "version": "3.11.6"
  }
 },
 "nbformat": 4,
 "nbformat_minor": 5
}
